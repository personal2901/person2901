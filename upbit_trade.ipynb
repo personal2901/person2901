{
  "nbformat": 4,
  "nbformat_minor": 0,
  "metadata": {
    "colab": {
      "name": "Untitled2.ipynb",
      "provenance": [],
      "authorship_tag": "ABX9TyMfPpmI4FFXZpx0PSHofAIr",
      "include_colab_link": true
    },
    "kernelspec": {
      "name": "python3",
      "display_name": "Python 3"
    },
    "language_info": {
      "name": "python"
    }
  },
  "cells": [
    {
      "cell_type": "markdown",
      "metadata": {
        "id": "view-in-github",
        "colab_type": "text"
      },
      "source": [
        "<a href=\"https://colab.research.google.com/github/personal2901/person2901/blob/master/upbit_trade.ipynb\" target=\"_parent\"><img src=\"https://colab.research.google.com/assets/colab-badge.svg\" alt=\"Open In Colab\"/></a>"
      ]
    },
    {
      "cell_type": "code",
      "execution_count": null,
      "metadata": {
        "colab": {
          "base_uri": "https://localhost:8080/"
        },
        "id": "jXafxql3HdX0",
        "outputId": "44113c51-bf8b-484d-8966-5a5d01c4812a"
      },
      "outputs": [
        {
          "output_type": "stream",
          "name": "stdout",
          "text": [
            "Requirement already satisfied: pyupbit in /usr/local/lib/python3.7/dist-packages (0.2.24)\n",
            "Requirement already satisfied: pyjwt>=2.0.0 in /usr/local/lib/python3.7/dist-packages (from pyupbit) (2.3.0)\n",
            "Requirement already satisfied: pandas in /usr/local/lib/python3.7/dist-packages (from pyupbit) (1.3.5)\n",
            "Requirement already satisfied: websockets==9.1 in /usr/local/lib/python3.7/dist-packages (from pyupbit) (9.1)\n",
            "Requirement already satisfied: requests in /usr/local/lib/python3.7/dist-packages (from pyupbit) (2.23.0)\n",
            "Requirement already satisfied: numpy>=1.17.3 in /usr/local/lib/python3.7/dist-packages (from pandas->pyupbit) (1.21.5)\n",
            "Requirement already satisfied: pytz>=2017.3 in /usr/local/lib/python3.7/dist-packages (from pandas->pyupbit) (2018.9)\n",
            "Requirement already satisfied: python-dateutil>=2.7.3 in /usr/local/lib/python3.7/dist-packages (from pandas->pyupbit) (2.8.2)\n",
            "Requirement already satisfied: six>=1.5 in /usr/local/lib/python3.7/dist-packages (from python-dateutil>=2.7.3->pandas->pyupbit) (1.15.0)\n",
            "Requirement already satisfied: idna<3,>=2.5 in /usr/local/lib/python3.7/dist-packages (from requests->pyupbit) (2.10)\n",
            "Requirement already satisfied: urllib3!=1.25.0,!=1.25.1,<1.26,>=1.21.1 in /usr/local/lib/python3.7/dist-packages (from requests->pyupbit) (1.24.3)\n",
            "Requirement already satisfied: chardet<4,>=3.0.2 in /usr/local/lib/python3.7/dist-packages (from requests->pyupbit) (3.0.4)\n",
            "Requirement already satisfied: certifi>=2017.4.17 in /usr/local/lib/python3.7/dist-packages (from requests->pyupbit) (2021.10.8)\n"
          ]
        }
      ],
      "source": [
        "!pip install pyupbit"
      ]
    },
    {
      "cell_type": "code",
      "source": [
        "import pyupbit\n",
        "import time\n",
        "import datetime\n",
        "\n",
        "access = \"your-access\"\n",
        "secret = \"your-secret\"\n",
        "\n",
        "def get_target_price(ticker, k=0.5):\n",
        "    \"\"\"변동성 돌파 전략으로 매수 목표가 조회\"\"\"\n",
        "    df = pyupbit.get_ohlcv(ticker, interval=\"day\", count=2)\n",
        "    target_price = df.iloc[0]['close'] + (df.iloc[0]['high'] - df.iloc[0]['low']) * k\n",
        "    return target_price\n",
        "\n",
        "def get_start_time(ticker):\n",
        "    \"\"\"시작 시간 조회\"\"\"\n",
        "    df = pyupbit.get_ohlcv(ticker, interval=\"day\", count=1)\n",
        "    start_time = df.index[0]\n",
        "    return start_time\n",
        "\n",
        "def get_ma15(ticker):\n",
        "    \"\"\"15일 이동 평균선 조회\"\"\"\n",
        "    df = pyupbit.get_ohlcv(ticker, interval=\"day\", count=15)\n",
        "    ma15 = df['close'].rolling(15).mean().iloc[-1]\n",
        "    return ma15\n",
        "\n",
        "def get_balance(ticker):\n",
        "    \"\"\"잔고 조회\"\"\"\n",
        "    balances = upbit.get_balances()\n",
        "    for b in balances:\n",
        "        if b['currency'] == ticker:\n",
        "            if b['balance'] is not None:\n",
        "                return float(b['balance'])\n",
        "            else:\n",
        "                return 0\n",
        "    return 0\n",
        "\n",
        "def get_current_price(ticker):\n",
        "    \"\"\"현재가 조회\"\"\"\n",
        "    return pyupbit.get_orderbook(ticker=ticker)[\"orderbook_units\"][0][\"ask_price\"]\n",
        "\n",
        "# 로그인\n",
        "upbit = pyupbit.Upbit(access, secret)\n",
        "print(\"autotrade start\")\n",
        "\n",
        "# 자동매매 시작\n",
        "while True:\n",
        "    try:\n",
        "        now = datetime.datetime.now()\n",
        "        start_time = get_start_time(\"KRW-BTC\")\n",
        "        end_time = start_time + datetime.timedelta(days=1)\n",
        "\n",
        "        for ticker in pyupbit.get_tickers(fiat=\"KRW\"):\n",
        "            if start_time < now < end_time - datetime.timedelta(seconds=10):\n",
        "                target_price = get_target_price(ticker, 0.5)\n",
        "                ma15 = get_ma15(ticker)\n",
        "                current_price = get_current_price(ticker)\n",
        "                if target_price < current_price and ma15 < current_price:\n",
        "                    krw = get_balance(\"KRW\")\n",
        "                    if krw > 5000:\n",
        "                        upbit.buy_market_order(ticker, krw*0.9995)\n",
        "            else:\n",
        "                coin = get_balance(ticker)\n",
        "                if coin > (5000/current_price):\n",
        "                    upbit.sell_market_order(ticker, coin)\n",
        "            time.sleep(1)\n",
        "    except Exception as e:\n",
        "        print(e)\n",
        "        time.sleep(1)"
      ],
      "metadata": {
        "id": "Ffa1Gq48kWSB"
      },
      "execution_count": null,
      "outputs": []
    }
  ]
}